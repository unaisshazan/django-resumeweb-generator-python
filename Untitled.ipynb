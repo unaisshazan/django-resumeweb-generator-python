{
 "cells": [
  {
   "cell_type": "code",
   "execution_count": 1,
   "metadata": {},
   "outputs": [
    {
     "ename": "NameError",
     "evalue": "name '__file__' is not defined",
     "output_type": "error",
     "traceback": [
      "\u001b[1;31m---------------------------------------------------------------------------\u001b[0m",
      "\u001b[1;31mNameError\u001b[0m                                 Traceback (most recent call last)",
      "\u001b[1;32m<ipython-input-1-19962399ac12>\u001b[0m in \u001b[0;36m<module>\u001b[1;34m\u001b[0m\n\u001b[0;32m      2\u001b[0m \u001b[1;32mfrom\u001b[0m \u001b[0msetuptools\u001b[0m \u001b[1;32mimport\u001b[0m \u001b[0msetup\u001b[0m\u001b[1;33m\u001b[0m\u001b[1;33m\u001b[0m\u001b[0m\n\u001b[0;32m      3\u001b[0m \u001b[1;33m\u001b[0m\u001b[0m\n\u001b[1;32m----> 4\u001b[1;33m \u001b[1;32mwith\u001b[0m \u001b[0mopen\u001b[0m\u001b[1;33m(\u001b[0m\u001b[0mos\u001b[0m\u001b[1;33m.\u001b[0m\u001b[0mpath\u001b[0m\u001b[1;33m.\u001b[0m\u001b[0mjoin\u001b[0m\u001b[1;33m(\u001b[0m\u001b[0mos\u001b[0m\u001b[1;33m.\u001b[0m\u001b[0mpath\u001b[0m\u001b[1;33m.\u001b[0m\u001b[0mrealpath\u001b[0m\u001b[1;33m(\u001b[0m\u001b[0m__file__\u001b[0m\u001b[1;33m)\u001b[0m\u001b[1;33m,\u001b[0m \u001b[1;34m'README.rst'\u001b[0m\u001b[1;33m)\u001b[0m\u001b[1;33m)\u001b[0m \u001b[1;32mas\u001b[0m \u001b[0mreadme\u001b[0m\u001b[1;33m:\u001b[0m\u001b[1;33m\u001b[0m\u001b[1;33m\u001b[0m\u001b[0m\n\u001b[0m\u001b[0;32m      5\u001b[0m     \u001b[0mREADME\u001b[0m \u001b[1;33m=\u001b[0m \u001b[0mreadme\u001b[0m\u001b[1;33m.\u001b[0m\u001b[0mread\u001b[0m\u001b[1;33m(\u001b[0m\u001b[1;33m)\u001b[0m\u001b[1;33m\u001b[0m\u001b[1;33m\u001b[0m\u001b[0m\n\u001b[0;32m      6\u001b[0m \u001b[1;33m\u001b[0m\u001b[0m\n",
      "\u001b[1;31mNameError\u001b[0m: name '__file__' is not defined"
     ]
    }
   ],
   "source": [
    "import os\n",
    "from setuptools import setup\n",
    "\n",
    "with open(os.path.join(os.path.realpath(__file__), 'README.rst')) as readme:\n",
    "    README = readme.read()\n",
    "\n",
    "os.chdir(os.path.normpath(os.path.join(os.path.abspath(__file__), os.pardir)))\n",
    "\n",
    "setup(\n",
    "    name='django-resumator',\n",
    "    version='1.1.6',\n",
    "    packages=['resumator'],\n",
    "    install_requires=[\n",
    "        'django-solo>=1.1.0',\n",
    "        'Pillow>=3.0.0',\n",
    "    ],\n",
    "    include_package_data=True,\n",
    "    license='MIT License',\n",
    "    description='A lightweight Django app to create Web-based resumes.',\n",
    "    long_description=README,\n",
    "    url='https://github.com/AmmsA/django-resumator',\n",
    "    author='Mustafa S',\n",
    "    author_email='mabualsaud@outlook.com',\n",
    "    classifiers=[\n",
    "        'Environment :: Web Environment',\n",
    "        'Framework :: Django',\n",
    "        'Intended Audience :: Developers',\n",
    "        'License :: OSI Approved :: MIT License',\n",
    "        'Operating System :: OS Independent',\n",
    "        'Programming Language :: Python',\n",
    "        'Programming Language :: Python :: 3',\n",
    "        'Programming Language :: Python :: 3.2',\n",
    "        'Programming Language :: Python :: 3.3',\n",
    "        'Topic :: Internet :: WWW/HTTP',\n",
    "        'Topic :: Internet :: WWW/HTTP :: Dynamic Content',\n",
    "    ],\n",
    ")\n"
   ]
  },
  {
   "cell_type": "code",
   "execution_count": null,
   "metadata": {},
   "outputs": [],
   "source": []
  }
 ],
 "metadata": {
  "kernelspec": {
   "display_name": "Python 3",
   "language": "python",
   "name": "python3"
  }
 },
 "nbformat": 4,
 "nbformat_minor": 2
}
